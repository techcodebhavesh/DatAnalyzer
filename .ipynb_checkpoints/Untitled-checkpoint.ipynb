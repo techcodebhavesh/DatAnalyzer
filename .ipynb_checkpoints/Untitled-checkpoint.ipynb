{
 "cells": [
  {
   "cell_type": "code",
   "execution_count": null,
   "id": "cfaf07bc-3ab5-413c-8e96-ba92c286927e",
   "metadata": {},
   "outputs": [],
   "source": [
    "import pandas as pd\n",
    "from pandasai import SmartDataframe\n",
    "from pandasai.llm.local_llm import LocalLLM\n",
    "import matplotlib.pyplot as plt\n",
    "# format pandas numbers\n",
    "pd.options.display.float_format = '{:,.0f}'.format\n",
    "#magic function for inline charts in notebook\n",
    "%matplotlib inline\n",
    "#For chart style from matplotlib \n",
    "plt.style.use('fivethirtyeight')"
   ]
  },
  {
   "cell_type": "code",
   "execution_count": null,
   "id": "910dd2e4-1f80-4537-8ad9-472d3a7877c0",
   "metadata": {},
   "outputs": [],
   "source": [
    "df = pd.read_csv(\"student.csv\")\n",
    "df.head()"
   ]
  },
  {
   "cell_type": "code",
   "execution_count": null,
   "id": "734369f4-9efb-4969-ab18-874213d0f772",
   "metadata": {},
   "outputs": [],
   "source": [
    "df_llm.chat('how many genders are there?')"
   ]
  },
  {
   "cell_type": "code",
   "execution_count": null,
   "id": "e120e461-85ab-4c4a-a31a-5d8d41d755d3",
   "metadata": {},
   "outputs": [],
   "source": [
    "df_llm.chat('What is the average GPA?')"
   ]
  },
  {
   "cell_type": "code",
   "execution_count": null,
   "id": "3f13d8d9-8d69-41ce-9c4c-5344b6528a28",
   "metadata": {},
   "outputs": [],
   "source": [
    "df_llm.chat('diplay the average age?')"
   ]
  },
  {
   "cell_type": "code",
   "execution_count": null,
   "id": "a2776e16-d474-4ef3-a1c7-2889835c80cf",
   "metadata": {},
   "outputs": [],
   "source": []
  }
 ],
 "metadata": {
  "kernelspec": {
   "display_name": "Python 3 (ipykernel)",
   "language": "python",
   "name": "python3"
  },
  "language_info": {
   "codemirror_mode": {
    "name": "ipython",
    "version": 3
   },
   "file_extension": ".py",
   "mimetype": "text/x-python",
   "name": "python",
   "nbconvert_exporter": "python",
   "pygments_lexer": "ipython3",
   "version": "3.12.0"
  }
 },
 "nbformat": 4,
 "nbformat_minor": 5
}
